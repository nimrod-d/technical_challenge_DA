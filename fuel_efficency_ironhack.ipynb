{
 "cells": [
  {
   "cell_type": "code",
   "execution_count": 529,
   "id": "8ffe9c0f-678c-4b43-9f3b-65c8e0fe0309",
   "metadata": {
    "tags": []
   },
   "outputs": [],
   "source": [
    "import pandas as pd\n",
    "import matplotlib.pyplot as plt \n",
    "from imblearn.under_sampling import RandomUnderSampler\n",
    "from scipy import stats\n",
    "from bs4 import BeautifulSoup\n",
    "import requests"
   ]
  },
  {
   "cell_type": "code",
   "execution_count": 530,
   "id": "8c97e2b7-19c9-491f-b13b-2368ea9fb236",
   "metadata": {
    "tags": []
   },
   "outputs": [],
   "source": [
    "url1 = 'measurements.csv'\n",
    "url2 = 'measurements2.xlsx'\n",
    "\n",
    "df1 = pd.read_csv(url1)\n",
    "df2 = pd.read_excel(url2)"
   ]
  },
  {
   "cell_type": "markdown",
   "id": "fcb5a5bb-ed6e-42d5-98e5-804c0593f5bb",
   "metadata": {},
   "source": [
    "# Cleaning process: \n",
    "\n",
    "\n",
    "\n",
    "## Cleaning of df1 "
   ]
  },
  {
   "cell_type": "code",
   "execution_count": 531,
   "id": "5dd40ea0-4def-40aa-bc01-9b4ae0ea07a6",
   "metadata": {
    "tags": []
   },
   "outputs": [
    {
     "data": {
      "text/html": [
       "<div>\n",
       "<style scoped>\n",
       "    .dataframe tbody tr th:only-of-type {\n",
       "        vertical-align: middle;\n",
       "    }\n",
       "\n",
       "    .dataframe tbody tr th {\n",
       "        vertical-align: top;\n",
       "    }\n",
       "\n",
       "    .dataframe thead th {\n",
       "        text-align: right;\n",
       "    }\n",
       "</style>\n",
       "<table border=\"1\" class=\"dataframe\">\n",
       "  <thead>\n",
       "    <tr style=\"text-align: right;\">\n",
       "      <th></th>\n",
       "      <th>distance</th>\n",
       "      <th>consume</th>\n",
       "      <th>speed</th>\n",
       "      <th>temp_inside</th>\n",
       "      <th>temp_outside</th>\n",
       "      <th>specials</th>\n",
       "      <th>gas_type</th>\n",
       "      <th>AC</th>\n",
       "      <th>rain</th>\n",
       "      <th>sun</th>\n",
       "      <th>refill liters</th>\n",
       "      <th>refill gas</th>\n",
       "    </tr>\n",
       "  </thead>\n",
       "  <tbody>\n",
       "    <tr>\n",
       "      <th>0</th>\n",
       "      <td>28</td>\n",
       "      <td>5</td>\n",
       "      <td>26</td>\n",
       "      <td>21,5</td>\n",
       "      <td>12</td>\n",
       "      <td>NaN</td>\n",
       "      <td>E10</td>\n",
       "      <td>0</td>\n",
       "      <td>0</td>\n",
       "      <td>0</td>\n",
       "      <td>45</td>\n",
       "      <td>E10</td>\n",
       "    </tr>\n",
       "    <tr>\n",
       "      <th>1</th>\n",
       "      <td>12</td>\n",
       "      <td>4,2</td>\n",
       "      <td>30</td>\n",
       "      <td>21,5</td>\n",
       "      <td>13</td>\n",
       "      <td>NaN</td>\n",
       "      <td>E10</td>\n",
       "      <td>0</td>\n",
       "      <td>0</td>\n",
       "      <td>0</td>\n",
       "      <td>NaN</td>\n",
       "      <td>NaN</td>\n",
       "    </tr>\n",
       "    <tr>\n",
       "      <th>2</th>\n",
       "      <td>11,2</td>\n",
       "      <td>5,5</td>\n",
       "      <td>38</td>\n",
       "      <td>21,5</td>\n",
       "      <td>15</td>\n",
       "      <td>NaN</td>\n",
       "      <td>E10</td>\n",
       "      <td>0</td>\n",
       "      <td>0</td>\n",
       "      <td>0</td>\n",
       "      <td>NaN</td>\n",
       "      <td>NaN</td>\n",
       "    </tr>\n",
       "    <tr>\n",
       "      <th>3</th>\n",
       "      <td>12,9</td>\n",
       "      <td>3,9</td>\n",
       "      <td>36</td>\n",
       "      <td>21,5</td>\n",
       "      <td>14</td>\n",
       "      <td>NaN</td>\n",
       "      <td>E10</td>\n",
       "      <td>0</td>\n",
       "      <td>0</td>\n",
       "      <td>0</td>\n",
       "      <td>NaN</td>\n",
       "      <td>NaN</td>\n",
       "    </tr>\n",
       "    <tr>\n",
       "      <th>4</th>\n",
       "      <td>18,5</td>\n",
       "      <td>4,5</td>\n",
       "      <td>46</td>\n",
       "      <td>21,5</td>\n",
       "      <td>15</td>\n",
       "      <td>NaN</td>\n",
       "      <td>E10</td>\n",
       "      <td>0</td>\n",
       "      <td>0</td>\n",
       "      <td>0</td>\n",
       "      <td>NaN</td>\n",
       "      <td>NaN</td>\n",
       "    </tr>\n",
       "    <tr>\n",
       "      <th>...</th>\n",
       "      <td>...</td>\n",
       "      <td>...</td>\n",
       "      <td>...</td>\n",
       "      <td>...</td>\n",
       "      <td>...</td>\n",
       "      <td>...</td>\n",
       "      <td>...</td>\n",
       "      <td>...</td>\n",
       "      <td>...</td>\n",
       "      <td>...</td>\n",
       "      <td>...</td>\n",
       "      <td>...</td>\n",
       "    </tr>\n",
       "    <tr>\n",
       "      <th>383</th>\n",
       "      <td>16</td>\n",
       "      <td>3,7</td>\n",
       "      <td>39</td>\n",
       "      <td>24,5</td>\n",
       "      <td>18</td>\n",
       "      <td>NaN</td>\n",
       "      <td>SP98</td>\n",
       "      <td>0</td>\n",
       "      <td>0</td>\n",
       "      <td>0</td>\n",
       "      <td>NaN</td>\n",
       "      <td>NaN</td>\n",
       "    </tr>\n",
       "    <tr>\n",
       "      <th>384</th>\n",
       "      <td>16,1</td>\n",
       "      <td>4,3</td>\n",
       "      <td>38</td>\n",
       "      <td>25</td>\n",
       "      <td>31</td>\n",
       "      <td>AC</td>\n",
       "      <td>SP98</td>\n",
       "      <td>1</td>\n",
       "      <td>0</td>\n",
       "      <td>0</td>\n",
       "      <td>NaN</td>\n",
       "      <td>NaN</td>\n",
       "    </tr>\n",
       "    <tr>\n",
       "      <th>385</th>\n",
       "      <td>16</td>\n",
       "      <td>3,8</td>\n",
       "      <td>45</td>\n",
       "      <td>25</td>\n",
       "      <td>19</td>\n",
       "      <td>NaN</td>\n",
       "      <td>SP98</td>\n",
       "      <td>0</td>\n",
       "      <td>0</td>\n",
       "      <td>0</td>\n",
       "      <td>NaN</td>\n",
       "      <td>NaN</td>\n",
       "    </tr>\n",
       "    <tr>\n",
       "      <th>386</th>\n",
       "      <td>15,4</td>\n",
       "      <td>4,6</td>\n",
       "      <td>42</td>\n",
       "      <td>25</td>\n",
       "      <td>31</td>\n",
       "      <td>AC</td>\n",
       "      <td>SP98</td>\n",
       "      <td>1</td>\n",
       "      <td>0</td>\n",
       "      <td>0</td>\n",
       "      <td>NaN</td>\n",
       "      <td>NaN</td>\n",
       "    </tr>\n",
       "    <tr>\n",
       "      <th>387</th>\n",
       "      <td>14,7</td>\n",
       "      <td>5</td>\n",
       "      <td>25</td>\n",
       "      <td>25</td>\n",
       "      <td>30</td>\n",
       "      <td>AC</td>\n",
       "      <td>SP98</td>\n",
       "      <td>1</td>\n",
       "      <td>0</td>\n",
       "      <td>0</td>\n",
       "      <td>NaN</td>\n",
       "      <td>NaN</td>\n",
       "    </tr>\n",
       "  </tbody>\n",
       "</table>\n",
       "<p>388 rows × 12 columns</p>\n",
       "</div>"
      ],
      "text/plain": [
       "    distance consume  speed temp_inside  temp_outside specials gas_type  AC  \\\n",
       "0         28       5     26        21,5            12      NaN      E10   0   \n",
       "1         12     4,2     30        21,5            13      NaN      E10   0   \n",
       "2       11,2     5,5     38        21,5            15      NaN      E10   0   \n",
       "3       12,9     3,9     36        21,5            14      NaN      E10   0   \n",
       "4       18,5     4,5     46        21,5            15      NaN      E10   0   \n",
       "..       ...     ...    ...         ...           ...      ...      ...  ..   \n",
       "383       16     3,7     39        24,5            18      NaN     SP98   0   \n",
       "384     16,1     4,3     38          25            31       AC     SP98   1   \n",
       "385       16     3,8     45          25            19      NaN     SP98   0   \n",
       "386     15,4     4,6     42          25            31       AC     SP98   1   \n",
       "387     14,7       5     25          25            30       AC     SP98   1   \n",
       "\n",
       "     rain  sun refill liters refill gas  \n",
       "0       0    0            45        E10  \n",
       "1       0    0           NaN        NaN  \n",
       "2       0    0           NaN        NaN  \n",
       "3       0    0           NaN        NaN  \n",
       "4       0    0           NaN        NaN  \n",
       "..    ...  ...           ...        ...  \n",
       "383     0    0           NaN        NaN  \n",
       "384     0    0           NaN        NaN  \n",
       "385     0    0           NaN        NaN  \n",
       "386     0    0           NaN        NaN  \n",
       "387     0    0           NaN        NaN  \n",
       "\n",
       "[388 rows x 12 columns]"
      ]
     },
     "execution_count": 531,
     "metadata": {},
     "output_type": "execute_result"
    }
   ],
   "source": [
    "df1"
   ]
  },
  {
   "cell_type": "code",
   "execution_count": 532,
   "id": "e18d76f5-e744-4c12-a5b0-39a96b0413ea",
   "metadata": {
    "tags": []
   },
   "outputs": [
    {
     "data": {
      "text/plain": [
       "SP98    228\n",
       "E10     160\n",
       "Name: gas_type, dtype: int64"
      ]
     },
     "execution_count": 532,
     "metadata": {},
     "output_type": "execute_result"
    }
   ],
   "source": [
    "df1['gas_type'].value_counts()"
   ]
  },
  {
   "cell_type": "code",
   "execution_count": 533,
   "id": "8530ad4a-278b-4741-85d4-25baef458b14",
   "metadata": {
    "tags": []
   },
   "outputs": [
    {
     "data": {
      "text/plain": [
       "SP98    228\n",
       "E10     160\n",
       "Name: gas_type, dtype: int64"
      ]
     },
     "execution_count": 533,
     "metadata": {},
     "output_type": "execute_result"
    }
   ],
   "source": [
    "df2['gas_type'].value_counts()"
   ]
  },
  {
   "cell_type": "code",
   "execution_count": 534,
   "id": "2c36911f-405d-473f-bf61-d00c286ffbb8",
   "metadata": {
    "tags": []
   },
   "outputs": [],
   "source": [
    "rows_to_remove1 = df1[df1['gas_type'] == 'SP98'].sample(n=68, random_state=42).index\n",
    "rows_to_remove2 = df2[df2['gas_type'] == 'SP98'].sample(n=68, random_state=42).index"
   ]
  },
  {
   "cell_type": "code",
   "execution_count": 535,
   "id": "94fd800d-3cef-404c-a65e-f78aa5fa7438",
   "metadata": {
    "tags": []
   },
   "outputs": [],
   "source": [
    "df1 = df1.drop(rows_to_remove1, axis=0)\n",
    "df2 = df2.drop(rows_to_remove2, axis=0)"
   ]
  },
  {
   "cell_type": "code",
   "execution_count": 536,
   "id": "e809c8bd-99f0-43a7-aaea-3bcdaa7b9f33",
   "metadata": {
    "tags": []
   },
   "outputs": [
    {
     "name": "stdout",
     "output_type": "stream",
     "text": [
      "E10     160\n",
      "SP98    160\n",
      "Name: gas_type, dtype: int64\n",
      "E10     160\n",
      "SP98    160\n",
      "Name: gas_type, dtype: int64\n"
     ]
    }
   ],
   "source": [
    "print(df1['gas_type'].value_counts())\n",
    "print(df2['gas_type'].value_counts())"
   ]
  },
  {
   "cell_type": "code",
   "execution_count": 537,
   "id": "ccf72746-da28-486b-ba43-598f73df87d4",
   "metadata": {
    "tags": []
   },
   "outputs": [
    {
     "name": "stdout",
     "output_type": "stream",
     "text": [
      "<class 'pandas.core.frame.DataFrame'>\n",
      "Int64Index: 320 entries, 0 to 387\n",
      "Data columns (total 12 columns):\n",
      " #   Column         Non-Null Count  Dtype \n",
      "---  ------         --------------  ----- \n",
      " 0   distance       320 non-null    object\n",
      " 1   consume        320 non-null    object\n",
      " 2   speed          320 non-null    int64 \n",
      " 3   temp_inside    309 non-null    object\n",
      " 4   temp_outside   320 non-null    int64 \n",
      " 5   specials       73 non-null     object\n",
      " 6   gas_type       320 non-null    object\n",
      " 7   AC             320 non-null    int64 \n",
      " 8   rain           320 non-null    int64 \n",
      " 9   sun            320 non-null    int64 \n",
      " 10  refill liters  9 non-null      object\n",
      " 11  refill gas     9 non-null      object\n",
      "dtypes: int64(5), object(7)\n",
      "memory usage: 32.5+ KB\n"
     ]
    }
   ],
   "source": [
    "df1.info()"
   ]
  },
  {
   "cell_type": "code",
   "execution_count": 538,
   "id": "c2a75aed-d884-4902-b243-c348a3e04ac3",
   "metadata": {
    "tags": []
   },
   "outputs": [],
   "source": [
    "columns_to_numeric = ['distance', 'consume', 'temp_inside', 'refill liters']\n",
    "\n",
    "for column in columns_to_numeric:\n",
    "    df1[column] = df1[column].fillna(\"0\")\n",
    "    df1[column] = df1[column].replace(\",\", \".\", regex=True)\n",
    "    df1[column] = df1[column].astype(float)\n",
    "\n"
   ]
  },
  {
   "cell_type": "code",
   "execution_count": 539,
   "id": "2ed7bd03-a42d-4293-96ea-a00963d5f4f8",
   "metadata": {
    "tags": []
   },
   "outputs": [],
   "source": [
    "df1_dummies = pd.get_dummies(df1, columns=['gas_type'])\n"
   ]
  },
  {
   "cell_type": "code",
   "execution_count": 540,
   "id": "b7a59ba4-e4a1-4abb-93f1-39b01f1b6734",
   "metadata": {
    "tags": []
   },
   "outputs": [],
   "source": [
    "# df1_dummies.drop('specials', axis=1, inplace=True)\n"
   ]
  },
  {
   "cell_type": "code",
   "execution_count": 541,
   "id": "75583173-ea55-4e41-bb96-39a1cd34f0f0",
   "metadata": {
    "tags": []
   },
   "outputs": [],
   "source": [
    "df1_ready = df1_dummies "
   ]
  },
  {
   "cell_type": "code",
   "execution_count": 542,
   "id": "e5d475ff-282f-4384-ac7a-728529242aba",
   "metadata": {
    "tags": []
   },
   "outputs": [
    {
     "name": "stdout",
     "output_type": "stream",
     "text": [
      "<class 'pandas.core.frame.DataFrame'>\n",
      "Int64Index: 320 entries, 0 to 387\n",
      "Data columns (total 13 columns):\n",
      " #   Column         Non-Null Count  Dtype  \n",
      "---  ------         --------------  -----  \n",
      " 0   distance       320 non-null    float64\n",
      " 1   consume        320 non-null    float64\n",
      " 2   speed          320 non-null    int64  \n",
      " 3   temp_inside    320 non-null    float64\n",
      " 4   temp_outside   320 non-null    int64  \n",
      " 5   specials       73 non-null     object \n",
      " 6   AC             320 non-null    int64  \n",
      " 7   rain           320 non-null    int64  \n",
      " 8   sun            320 non-null    int64  \n",
      " 9   refill liters  320 non-null    float64\n",
      " 10  refill gas     9 non-null      object \n",
      " 11  gas_type_E10   320 non-null    uint8  \n",
      " 12  gas_type_SP98  320 non-null    uint8  \n",
      "dtypes: float64(4), int64(5), object(2), uint8(2)\n",
      "memory usage: 30.6+ KB\n"
     ]
    }
   ],
   "source": [
    "df1_ready.info()"
   ]
  },
  {
   "cell_type": "markdown",
   "id": "39f57bd8-5f1f-45c0-8364-585257864e69",
   "metadata": {},
   "source": [
    "## Cleaned df1 "
   ]
  },
  {
   "cell_type": "code",
   "execution_count": 543,
   "id": "3dacb65b-9840-4faa-9e4d-3080ac810cdf",
   "metadata": {
    "tags": []
   },
   "outputs": [
    {
     "data": {
      "text/html": [
       "<div>\n",
       "<style scoped>\n",
       "    .dataframe tbody tr th:only-of-type {\n",
       "        vertical-align: middle;\n",
       "    }\n",
       "\n",
       "    .dataframe tbody tr th {\n",
       "        vertical-align: top;\n",
       "    }\n",
       "\n",
       "    .dataframe thead th {\n",
       "        text-align: right;\n",
       "    }\n",
       "</style>\n",
       "<table border=\"1\" class=\"dataframe\">\n",
       "  <thead>\n",
       "    <tr style=\"text-align: right;\">\n",
       "      <th></th>\n",
       "      <th>distance</th>\n",
       "      <th>consume</th>\n",
       "      <th>speed</th>\n",
       "      <th>temp_inside</th>\n",
       "      <th>temp_outside</th>\n",
       "      <th>specials</th>\n",
       "      <th>AC</th>\n",
       "      <th>rain</th>\n",
       "      <th>sun</th>\n",
       "      <th>refill liters</th>\n",
       "      <th>refill gas</th>\n",
       "      <th>gas_type_E10</th>\n",
       "      <th>gas_type_SP98</th>\n",
       "    </tr>\n",
       "  </thead>\n",
       "  <tbody>\n",
       "    <tr>\n",
       "      <th>0</th>\n",
       "      <td>28.0</td>\n",
       "      <td>5.0</td>\n",
       "      <td>26</td>\n",
       "      <td>21.5</td>\n",
       "      <td>12</td>\n",
       "      <td>NaN</td>\n",
       "      <td>0</td>\n",
       "      <td>0</td>\n",
       "      <td>0</td>\n",
       "      <td>45.0</td>\n",
       "      <td>E10</td>\n",
       "      <td>1</td>\n",
       "      <td>0</td>\n",
       "    </tr>\n",
       "    <tr>\n",
       "      <th>1</th>\n",
       "      <td>12.0</td>\n",
       "      <td>4.2</td>\n",
       "      <td>30</td>\n",
       "      <td>21.5</td>\n",
       "      <td>13</td>\n",
       "      <td>NaN</td>\n",
       "      <td>0</td>\n",
       "      <td>0</td>\n",
       "      <td>0</td>\n",
       "      <td>0.0</td>\n",
       "      <td>NaN</td>\n",
       "      <td>1</td>\n",
       "      <td>0</td>\n",
       "    </tr>\n",
       "    <tr>\n",
       "      <th>2</th>\n",
       "      <td>11.2</td>\n",
       "      <td>5.5</td>\n",
       "      <td>38</td>\n",
       "      <td>21.5</td>\n",
       "      <td>15</td>\n",
       "      <td>NaN</td>\n",
       "      <td>0</td>\n",
       "      <td>0</td>\n",
       "      <td>0</td>\n",
       "      <td>0.0</td>\n",
       "      <td>NaN</td>\n",
       "      <td>1</td>\n",
       "      <td>0</td>\n",
       "    </tr>\n",
       "    <tr>\n",
       "      <th>3</th>\n",
       "      <td>12.9</td>\n",
       "      <td>3.9</td>\n",
       "      <td>36</td>\n",
       "      <td>21.5</td>\n",
       "      <td>14</td>\n",
       "      <td>NaN</td>\n",
       "      <td>0</td>\n",
       "      <td>0</td>\n",
       "      <td>0</td>\n",
       "      <td>0.0</td>\n",
       "      <td>NaN</td>\n",
       "      <td>1</td>\n",
       "      <td>0</td>\n",
       "    </tr>\n",
       "    <tr>\n",
       "      <th>4</th>\n",
       "      <td>18.5</td>\n",
       "      <td>4.5</td>\n",
       "      <td>46</td>\n",
       "      <td>21.5</td>\n",
       "      <td>15</td>\n",
       "      <td>NaN</td>\n",
       "      <td>0</td>\n",
       "      <td>0</td>\n",
       "      <td>0</td>\n",
       "      <td>0.0</td>\n",
       "      <td>NaN</td>\n",
       "      <td>1</td>\n",
       "      <td>0</td>\n",
       "    </tr>\n",
       "  </tbody>\n",
       "</table>\n",
       "</div>"
      ],
      "text/plain": [
       "   distance  consume  speed  temp_inside  temp_outside specials  AC  rain  \\\n",
       "0      28.0      5.0     26         21.5            12      NaN   0     0   \n",
       "1      12.0      4.2     30         21.5            13      NaN   0     0   \n",
       "2      11.2      5.5     38         21.5            15      NaN   0     0   \n",
       "3      12.9      3.9     36         21.5            14      NaN   0     0   \n",
       "4      18.5      4.5     46         21.5            15      NaN   0     0   \n",
       "\n",
       "   sun  refill liters refill gas  gas_type_E10  gas_type_SP98  \n",
       "0    0           45.0        E10             1              0  \n",
       "1    0            0.0        NaN             1              0  \n",
       "2    0            0.0        NaN             1              0  \n",
       "3    0            0.0        NaN             1              0  \n",
       "4    0            0.0        NaN             1              0  "
      ]
     },
     "execution_count": 543,
     "metadata": {},
     "output_type": "execute_result"
    }
   ],
   "source": [
    "df1_ready.head()"
   ]
  },
  {
   "cell_type": "markdown",
   "id": "cce1099c-db53-44b0-a5ec-a8655487b091",
   "metadata": {},
   "source": [
    "## Cleaning of df2"
   ]
  },
  {
   "cell_type": "code",
   "execution_count": 544,
   "id": "2f0c08e3-06b3-47c0-ad39-fe516504b2f1",
   "metadata": {
    "tags": []
   },
   "outputs": [
    {
     "data": {
      "text/html": [
       "<div>\n",
       "<style scoped>\n",
       "    .dataframe tbody tr th:only-of-type {\n",
       "        vertical-align: middle;\n",
       "    }\n",
       "\n",
       "    .dataframe tbody tr th {\n",
       "        vertical-align: top;\n",
       "    }\n",
       "\n",
       "    .dataframe thead th {\n",
       "        text-align: right;\n",
       "    }\n",
       "</style>\n",
       "<table border=\"1\" class=\"dataframe\">\n",
       "  <thead>\n",
       "    <tr style=\"text-align: right;\">\n",
       "      <th></th>\n",
       "      <th>distance</th>\n",
       "      <th>consume</th>\n",
       "      <th>speed</th>\n",
       "      <th>temp_inside</th>\n",
       "      <th>temp_outside</th>\n",
       "      <th>specials</th>\n",
       "      <th>gas_type</th>\n",
       "      <th>AC</th>\n",
       "      <th>rain</th>\n",
       "      <th>sun</th>\n",
       "      <th>refill liters</th>\n",
       "      <th>refill gas</th>\n",
       "    </tr>\n",
       "  </thead>\n",
       "  <tbody>\n",
       "    <tr>\n",
       "      <th>0</th>\n",
       "      <td>28.0</td>\n",
       "      <td>5.0</td>\n",
       "      <td>26</td>\n",
       "      <td>21.5</td>\n",
       "      <td>12</td>\n",
       "      <td>NaN</td>\n",
       "      <td>E10</td>\n",
       "      <td>0</td>\n",
       "      <td>0</td>\n",
       "      <td>0</td>\n",
       "      <td>45.0</td>\n",
       "      <td>E10</td>\n",
       "    </tr>\n",
       "    <tr>\n",
       "      <th>1</th>\n",
       "      <td>12.0</td>\n",
       "      <td>4.2</td>\n",
       "      <td>30</td>\n",
       "      <td>21.5</td>\n",
       "      <td>13</td>\n",
       "      <td>NaN</td>\n",
       "      <td>E10</td>\n",
       "      <td>0</td>\n",
       "      <td>0</td>\n",
       "      <td>0</td>\n",
       "      <td>NaN</td>\n",
       "      <td>NaN</td>\n",
       "    </tr>\n",
       "    <tr>\n",
       "      <th>2</th>\n",
       "      <td>11.2</td>\n",
       "      <td>5.5</td>\n",
       "      <td>38</td>\n",
       "      <td>21.5</td>\n",
       "      <td>15</td>\n",
       "      <td>NaN</td>\n",
       "      <td>E10</td>\n",
       "      <td>0</td>\n",
       "      <td>0</td>\n",
       "      <td>0</td>\n",
       "      <td>NaN</td>\n",
       "      <td>NaN</td>\n",
       "    </tr>\n",
       "    <tr>\n",
       "      <th>3</th>\n",
       "      <td>12.9</td>\n",
       "      <td>3.9</td>\n",
       "      <td>36</td>\n",
       "      <td>21.5</td>\n",
       "      <td>14</td>\n",
       "      <td>NaN</td>\n",
       "      <td>E10</td>\n",
       "      <td>0</td>\n",
       "      <td>0</td>\n",
       "      <td>0</td>\n",
       "      <td>NaN</td>\n",
       "      <td>NaN</td>\n",
       "    </tr>\n",
       "    <tr>\n",
       "      <th>4</th>\n",
       "      <td>18.5</td>\n",
       "      <td>4.5</td>\n",
       "      <td>46</td>\n",
       "      <td>21.5</td>\n",
       "      <td>15</td>\n",
       "      <td>NaN</td>\n",
       "      <td>E10</td>\n",
       "      <td>0</td>\n",
       "      <td>0</td>\n",
       "      <td>0</td>\n",
       "      <td>NaN</td>\n",
       "      <td>NaN</td>\n",
       "    </tr>\n",
       "  </tbody>\n",
       "</table>\n",
       "</div>"
      ],
      "text/plain": [
       "   distance  consume  speed  temp_inside  temp_outside specials gas_type  AC  \\\n",
       "0      28.0      5.0     26         21.5            12      NaN      E10   0   \n",
       "1      12.0      4.2     30         21.5            13      NaN      E10   0   \n",
       "2      11.2      5.5     38         21.5            15      NaN      E10   0   \n",
       "3      12.9      3.9     36         21.5            14      NaN      E10   0   \n",
       "4      18.5      4.5     46         21.5            15      NaN      E10   0   \n",
       "\n",
       "   rain  sun  refill liters refill gas  \n",
       "0     0    0           45.0        E10  \n",
       "1     0    0            NaN        NaN  \n",
       "2     0    0            NaN        NaN  \n",
       "3     0    0            NaN        NaN  \n",
       "4     0    0            NaN        NaN  "
      ]
     },
     "execution_count": 544,
     "metadata": {},
     "output_type": "execute_result"
    }
   ],
   "source": [
    "df2.head()"
   ]
  },
  {
   "cell_type": "code",
   "execution_count": 545,
   "id": "e470bc44-8a6a-4402-8333-e743f138c8f5",
   "metadata": {
    "tags": []
   },
   "outputs": [
    {
     "name": "stdout",
     "output_type": "stream",
     "text": [
      "<class 'pandas.core.frame.DataFrame'>\n",
      "Int64Index: 320 entries, 0 to 387\n",
      "Data columns (total 12 columns):\n",
      " #   Column         Non-Null Count  Dtype  \n",
      "---  ------         --------------  -----  \n",
      " 0   distance       320 non-null    float64\n",
      " 1   consume        320 non-null    float64\n",
      " 2   speed          320 non-null    int64  \n",
      " 3   temp_inside    309 non-null    float64\n",
      " 4   temp_outside   320 non-null    int64  \n",
      " 5   specials       73 non-null     object \n",
      " 6   gas_type       320 non-null    object \n",
      " 7   AC             320 non-null    int64  \n",
      " 8   rain           320 non-null    int64  \n",
      " 9   sun            320 non-null    int64  \n",
      " 10  refill liters  9 non-null      float64\n",
      " 11  refill gas     9 non-null      object \n",
      "dtypes: float64(4), int64(5), object(3)\n",
      "memory usage: 32.5+ KB\n"
     ]
    }
   ],
   "source": [
    "df2.info()"
   ]
  },
  {
   "cell_type": "code",
   "execution_count": 546,
   "id": "73a8d3df-b7e0-4fb8-9a44-64ff57c451ab",
   "metadata": {
    "tags": []
   },
   "outputs": [],
   "source": [
    "df2.drop('specials', axis=1, inplace=True)"
   ]
  },
  {
   "cell_type": "code",
   "execution_count": 547,
   "id": "593848f3-4c3b-4755-8587-82633b05827b",
   "metadata": {
    "tags": []
   },
   "outputs": [],
   "source": [
    "df2['refill liters'] = df2['refill liters'].fillna(0)"
   ]
  },
  {
   "cell_type": "code",
   "execution_count": 548,
   "id": "574729f4-7149-4a73-ab5d-103f53714826",
   "metadata": {
    "tags": []
   },
   "outputs": [],
   "source": [
    "df2 = pd.get_dummies(df2, columns=['gas_type'])"
   ]
  },
  {
   "cell_type": "markdown",
   "id": "f5575e4b-5cce-4d79-9e39-528f10de25b2",
   "metadata": {},
   "source": [
    "## Cleaned df2"
   ]
  },
  {
   "cell_type": "code",
   "execution_count": 549,
   "id": "5f703694-42da-4c6d-b6cc-8f2c29575796",
   "metadata": {
    "tags": []
   },
   "outputs": [
    {
     "data": {
      "text/html": [
       "<div>\n",
       "<style scoped>\n",
       "    .dataframe tbody tr th:only-of-type {\n",
       "        vertical-align: middle;\n",
       "    }\n",
       "\n",
       "    .dataframe tbody tr th {\n",
       "        vertical-align: top;\n",
       "    }\n",
       "\n",
       "    .dataframe thead th {\n",
       "        text-align: right;\n",
       "    }\n",
       "</style>\n",
       "<table border=\"1\" class=\"dataframe\">\n",
       "  <thead>\n",
       "    <tr style=\"text-align: right;\">\n",
       "      <th></th>\n",
       "      <th>distance</th>\n",
       "      <th>consume</th>\n",
       "      <th>speed</th>\n",
       "      <th>temp_inside</th>\n",
       "      <th>temp_outside</th>\n",
       "      <th>AC</th>\n",
       "      <th>rain</th>\n",
       "      <th>sun</th>\n",
       "      <th>refill liters</th>\n",
       "      <th>refill gas</th>\n",
       "      <th>gas_type_E10</th>\n",
       "      <th>gas_type_SP98</th>\n",
       "    </tr>\n",
       "  </thead>\n",
       "  <tbody>\n",
       "    <tr>\n",
       "      <th>0</th>\n",
       "      <td>28.0</td>\n",
       "      <td>5.0</td>\n",
       "      <td>26</td>\n",
       "      <td>21.5</td>\n",
       "      <td>12</td>\n",
       "      <td>0</td>\n",
       "      <td>0</td>\n",
       "      <td>0</td>\n",
       "      <td>45.0</td>\n",
       "      <td>E10</td>\n",
       "      <td>1</td>\n",
       "      <td>0</td>\n",
       "    </tr>\n",
       "    <tr>\n",
       "      <th>1</th>\n",
       "      <td>12.0</td>\n",
       "      <td>4.2</td>\n",
       "      <td>30</td>\n",
       "      <td>21.5</td>\n",
       "      <td>13</td>\n",
       "      <td>0</td>\n",
       "      <td>0</td>\n",
       "      <td>0</td>\n",
       "      <td>0.0</td>\n",
       "      <td>NaN</td>\n",
       "      <td>1</td>\n",
       "      <td>0</td>\n",
       "    </tr>\n",
       "    <tr>\n",
       "      <th>2</th>\n",
       "      <td>11.2</td>\n",
       "      <td>5.5</td>\n",
       "      <td>38</td>\n",
       "      <td>21.5</td>\n",
       "      <td>15</td>\n",
       "      <td>0</td>\n",
       "      <td>0</td>\n",
       "      <td>0</td>\n",
       "      <td>0.0</td>\n",
       "      <td>NaN</td>\n",
       "      <td>1</td>\n",
       "      <td>0</td>\n",
       "    </tr>\n",
       "    <tr>\n",
       "      <th>3</th>\n",
       "      <td>12.9</td>\n",
       "      <td>3.9</td>\n",
       "      <td>36</td>\n",
       "      <td>21.5</td>\n",
       "      <td>14</td>\n",
       "      <td>0</td>\n",
       "      <td>0</td>\n",
       "      <td>0</td>\n",
       "      <td>0.0</td>\n",
       "      <td>NaN</td>\n",
       "      <td>1</td>\n",
       "      <td>0</td>\n",
       "    </tr>\n",
       "    <tr>\n",
       "      <th>4</th>\n",
       "      <td>18.5</td>\n",
       "      <td>4.5</td>\n",
       "      <td>46</td>\n",
       "      <td>21.5</td>\n",
       "      <td>15</td>\n",
       "      <td>0</td>\n",
       "      <td>0</td>\n",
       "      <td>0</td>\n",
       "      <td>0.0</td>\n",
       "      <td>NaN</td>\n",
       "      <td>1</td>\n",
       "      <td>0</td>\n",
       "    </tr>\n",
       "  </tbody>\n",
       "</table>\n",
       "</div>"
      ],
      "text/plain": [
       "   distance  consume  speed  temp_inside  temp_outside  AC  rain  sun  \\\n",
       "0      28.0      5.0     26         21.5            12   0     0    0   \n",
       "1      12.0      4.2     30         21.5            13   0     0    0   \n",
       "2      11.2      5.5     38         21.5            15   0     0    0   \n",
       "3      12.9      3.9     36         21.5            14   0     0    0   \n",
       "4      18.5      4.5     46         21.5            15   0     0    0   \n",
       "\n",
       "   refill liters refill gas  gas_type_E10  gas_type_SP98  \n",
       "0           45.0        E10             1              0  \n",
       "1            0.0        NaN             1              0  \n",
       "2            0.0        NaN             1              0  \n",
       "3            0.0        NaN             1              0  \n",
       "4            0.0        NaN             1              0  "
      ]
     },
     "execution_count": 549,
     "metadata": {},
     "output_type": "execute_result"
    }
   ],
   "source": [
    "df2.head()"
   ]
  },
  {
   "cell_type": "code",
   "execution_count": 550,
   "id": "c2c35b03-cd34-4762-b7ee-055386c8de2a",
   "metadata": {
    "tags": []
   },
   "outputs": [
    {
     "data": {
      "text/html": [
       "<div>\n",
       "<style scoped>\n",
       "    .dataframe tbody tr th:only-of-type {\n",
       "        vertical-align: middle;\n",
       "    }\n",
       "\n",
       "    .dataframe tbody tr th {\n",
       "        vertical-align: top;\n",
       "    }\n",
       "\n",
       "    .dataframe thead th {\n",
       "        text-align: right;\n",
       "    }\n",
       "</style>\n",
       "<table border=\"1\" class=\"dataframe\">\n",
       "  <thead>\n",
       "    <tr style=\"text-align: right;\">\n",
       "      <th></th>\n",
       "      <th>distance</th>\n",
       "      <th>consume</th>\n",
       "      <th>speed</th>\n",
       "      <th>temp_inside</th>\n",
       "      <th>temp_outside</th>\n",
       "      <th>specials</th>\n",
       "      <th>AC</th>\n",
       "      <th>rain</th>\n",
       "      <th>sun</th>\n",
       "      <th>refill liters</th>\n",
       "      <th>refill gas</th>\n",
       "      <th>gas_type_E10</th>\n",
       "      <th>gas_type_SP98</th>\n",
       "    </tr>\n",
       "  </thead>\n",
       "  <tbody>\n",
       "    <tr>\n",
       "      <th>0</th>\n",
       "      <td>28.0</td>\n",
       "      <td>5.0</td>\n",
       "      <td>26</td>\n",
       "      <td>21.5</td>\n",
       "      <td>12</td>\n",
       "      <td>NaN</td>\n",
       "      <td>0</td>\n",
       "      <td>0</td>\n",
       "      <td>0</td>\n",
       "      <td>45.0</td>\n",
       "      <td>E10</td>\n",
       "      <td>1</td>\n",
       "      <td>0</td>\n",
       "    </tr>\n",
       "    <tr>\n",
       "      <th>1</th>\n",
       "      <td>12.0</td>\n",
       "      <td>4.2</td>\n",
       "      <td>30</td>\n",
       "      <td>21.5</td>\n",
       "      <td>13</td>\n",
       "      <td>NaN</td>\n",
       "      <td>0</td>\n",
       "      <td>0</td>\n",
       "      <td>0</td>\n",
       "      <td>0.0</td>\n",
       "      <td>NaN</td>\n",
       "      <td>1</td>\n",
       "      <td>0</td>\n",
       "    </tr>\n",
       "    <tr>\n",
       "      <th>2</th>\n",
       "      <td>11.2</td>\n",
       "      <td>5.5</td>\n",
       "      <td>38</td>\n",
       "      <td>21.5</td>\n",
       "      <td>15</td>\n",
       "      <td>NaN</td>\n",
       "      <td>0</td>\n",
       "      <td>0</td>\n",
       "      <td>0</td>\n",
       "      <td>0.0</td>\n",
       "      <td>NaN</td>\n",
       "      <td>1</td>\n",
       "      <td>0</td>\n",
       "    </tr>\n",
       "    <tr>\n",
       "      <th>3</th>\n",
       "      <td>12.9</td>\n",
       "      <td>3.9</td>\n",
       "      <td>36</td>\n",
       "      <td>21.5</td>\n",
       "      <td>14</td>\n",
       "      <td>NaN</td>\n",
       "      <td>0</td>\n",
       "      <td>0</td>\n",
       "      <td>0</td>\n",
       "      <td>0.0</td>\n",
       "      <td>NaN</td>\n",
       "      <td>1</td>\n",
       "      <td>0</td>\n",
       "    </tr>\n",
       "    <tr>\n",
       "      <th>4</th>\n",
       "      <td>18.5</td>\n",
       "      <td>4.5</td>\n",
       "      <td>46</td>\n",
       "      <td>21.5</td>\n",
       "      <td>15</td>\n",
       "      <td>NaN</td>\n",
       "      <td>0</td>\n",
       "      <td>0</td>\n",
       "      <td>0</td>\n",
       "      <td>0.0</td>\n",
       "      <td>NaN</td>\n",
       "      <td>1</td>\n",
       "      <td>0</td>\n",
       "    </tr>\n",
       "  </tbody>\n",
       "</table>\n",
       "</div>"
      ],
      "text/plain": [
       "   distance  consume  speed  temp_inside  temp_outside specials  AC  rain  \\\n",
       "0      28.0      5.0     26         21.5            12      NaN   0     0   \n",
       "1      12.0      4.2     30         21.5            13      NaN   0     0   \n",
       "2      11.2      5.5     38         21.5            15      NaN   0     0   \n",
       "3      12.9      3.9     36         21.5            14      NaN   0     0   \n",
       "4      18.5      4.5     46         21.5            15      NaN   0     0   \n",
       "\n",
       "   sun  refill liters refill gas  gas_type_E10  gas_type_SP98  \n",
       "0    0           45.0        E10             1              0  \n",
       "1    0            0.0        NaN             1              0  \n",
       "2    0            0.0        NaN             1              0  \n",
       "3    0            0.0        NaN             1              0  \n",
       "4    0            0.0        NaN             1              0  "
      ]
     },
     "execution_count": 550,
     "metadata": {},
     "output_type": "execute_result"
    }
   ],
   "source": [
    "df1_ready.head()"
   ]
  },
  {
   "cell_type": "markdown",
   "id": "4f9d8c7f-e6e7-4f96-a637-5809bb1430bd",
   "metadata": {},
   "source": [
    "## Merged DF's"
   ]
  },
  {
   "cell_type": "code",
   "execution_count": 551,
   "id": "e8b387f4-c17d-4ee4-88af-99a96bc8298a",
   "metadata": {
    "tags": []
   },
   "outputs": [],
   "source": [
    "df = pd.concat([df1_ready, df2], axis=0)"
   ]
  },
  {
   "cell_type": "code",
   "execution_count": 552,
   "id": "f6eadc4d-df44-4e3e-a2ed-1fd41fe70a08",
   "metadata": {
    "tags": []
   },
   "outputs": [],
   "source": [
    "df['fuel_efficiency'] = df['distance'] / df['consume']"
   ]
  },
  {
   "cell_type": "code",
   "execution_count": 553,
   "id": "c885817f-54b9-42a0-8a44-79582722c10d",
   "metadata": {
    "tags": []
   },
   "outputs": [],
   "source": [
    "df['temp_diff'] = df['temp_inside'] - df['temp_outside']"
   ]
  },
  {
   "cell_type": "code",
   "execution_count": 554,
   "id": "f5f1b938-17bb-409d-9a14-b1ab9573b7dd",
   "metadata": {
    "tags": []
   },
   "outputs": [],
   "source": [
    "df['km_per_liter'] = 100 / df['consume']"
   ]
  },
  {
   "cell_type": "code",
   "execution_count": 555,
   "id": "1baa08fc-a9a9-4e5e-8789-b765c8f56ed8",
   "metadata": {
    "tags": []
   },
   "outputs": [
    {
     "data": {
      "text/html": [
       "<div>\n",
       "<style scoped>\n",
       "    .dataframe tbody tr th:only-of-type {\n",
       "        vertical-align: middle;\n",
       "    }\n",
       "\n",
       "    .dataframe tbody tr th {\n",
       "        vertical-align: top;\n",
       "    }\n",
       "\n",
       "    .dataframe thead th {\n",
       "        text-align: right;\n",
       "    }\n",
       "</style>\n",
       "<table border=\"1\" class=\"dataframe\">\n",
       "  <thead>\n",
       "    <tr style=\"text-align: right;\">\n",
       "      <th></th>\n",
       "      <th>count</th>\n",
       "      <th>mean</th>\n",
       "      <th>std</th>\n",
       "      <th>min</th>\n",
       "      <th>25%</th>\n",
       "      <th>50%</th>\n",
       "      <th>75%</th>\n",
       "      <th>max</th>\n",
       "    </tr>\n",
       "  </thead>\n",
       "  <tbody>\n",
       "    <tr>\n",
       "      <th>distance</th>\n",
       "      <td>640.0</td>\n",
       "      <td>20.456875</td>\n",
       "      <td>24.568837</td>\n",
       "      <td>1.300000</td>\n",
       "      <td>11.800000</td>\n",
       "      <td>15.350000</td>\n",
       "      <td>19.000000</td>\n",
       "      <td>216.100000</td>\n",
       "    </tr>\n",
       "    <tr>\n",
       "      <th>consume</th>\n",
       "      <td>640.0</td>\n",
       "      <td>4.949375</td>\n",
       "      <td>1.048316</td>\n",
       "      <td>3.300000</td>\n",
       "      <td>4.300000</td>\n",
       "      <td>4.800000</td>\n",
       "      <td>5.300000</td>\n",
       "      <td>12.200000</td>\n",
       "    </tr>\n",
       "    <tr>\n",
       "      <th>speed</th>\n",
       "      <td>640.0</td>\n",
       "      <td>42.903125</td>\n",
       "      <td>13.957682</td>\n",
       "      <td>14.000000</td>\n",
       "      <td>33.000000</td>\n",
       "      <td>42.000000</td>\n",
       "      <td>51.000000</td>\n",
       "      <td>90.000000</td>\n",
       "    </tr>\n",
       "    <tr>\n",
       "      <th>temp_inside</th>\n",
       "      <td>629.0</td>\n",
       "      <td>21.529412</td>\n",
       "      <td>3.034753</td>\n",
       "      <td>0.000000</td>\n",
       "      <td>21.500000</td>\n",
       "      <td>22.000000</td>\n",
       "      <td>22.500000</td>\n",
       "      <td>25.500000</td>\n",
       "    </tr>\n",
       "    <tr>\n",
       "      <th>temp_outside</th>\n",
       "      <td>640.0</td>\n",
       "      <td>11.143750</td>\n",
       "      <td>7.049875</td>\n",
       "      <td>-5.000000</td>\n",
       "      <td>6.000000</td>\n",
       "      <td>10.000000</td>\n",
       "      <td>16.000000</td>\n",
       "      <td>31.000000</td>\n",
       "    </tr>\n",
       "    <tr>\n",
       "      <th>AC</th>\n",
       "      <td>640.0</td>\n",
       "      <td>0.071875</td>\n",
       "      <td>0.258483</td>\n",
       "      <td>0.000000</td>\n",
       "      <td>0.000000</td>\n",
       "      <td>0.000000</td>\n",
       "      <td>0.000000</td>\n",
       "      <td>1.000000</td>\n",
       "    </tr>\n",
       "    <tr>\n",
       "      <th>rain</th>\n",
       "      <td>640.0</td>\n",
       "      <td>0.121875</td>\n",
       "      <td>0.327397</td>\n",
       "      <td>0.000000</td>\n",
       "      <td>0.000000</td>\n",
       "      <td>0.000000</td>\n",
       "      <td>0.000000</td>\n",
       "      <td>1.000000</td>\n",
       "    </tr>\n",
       "    <tr>\n",
       "      <th>sun</th>\n",
       "      <td>640.0</td>\n",
       "      <td>0.075000</td>\n",
       "      <td>0.263597</td>\n",
       "      <td>0.000000</td>\n",
       "      <td>0.000000</td>\n",
       "      <td>0.000000</td>\n",
       "      <td>0.000000</td>\n",
       "      <td>1.000000</td>\n",
       "    </tr>\n",
       "    <tr>\n",
       "      <th>refill liters</th>\n",
       "      <td>640.0</td>\n",
       "      <td>1.121250</td>\n",
       "      <td>6.614698</td>\n",
       "      <td>0.000000</td>\n",
       "      <td>0.000000</td>\n",
       "      <td>0.000000</td>\n",
       "      <td>0.000000</td>\n",
       "      <td>45.000000</td>\n",
       "    </tr>\n",
       "    <tr>\n",
       "      <th>gas_type_E10</th>\n",
       "      <td>640.0</td>\n",
       "      <td>0.500000</td>\n",
       "      <td>0.500391</td>\n",
       "      <td>0.000000</td>\n",
       "      <td>0.000000</td>\n",
       "      <td>0.500000</td>\n",
       "      <td>1.000000</td>\n",
       "      <td>1.000000</td>\n",
       "    </tr>\n",
       "    <tr>\n",
       "      <th>gas_type_SP98</th>\n",
       "      <td>640.0</td>\n",
       "      <td>0.500000</td>\n",
       "      <td>0.500391</td>\n",
       "      <td>0.000000</td>\n",
       "      <td>0.000000</td>\n",
       "      <td>0.500000</td>\n",
       "      <td>1.000000</td>\n",
       "      <td>1.000000</td>\n",
       "    </tr>\n",
       "    <tr>\n",
       "      <th>fuel_efficiency</th>\n",
       "      <td>640.0</td>\n",
       "      <td>4.339359</td>\n",
       "      <td>5.070684</td>\n",
       "      <td>0.113043</td>\n",
       "      <td>2.334906</td>\n",
       "      <td>3.107692</td>\n",
       "      <td>4.371554</td>\n",
       "      <td>45.869565</td>\n",
       "    </tr>\n",
       "    <tr>\n",
       "      <th>temp_diff</th>\n",
       "      <td>629.0</td>\n",
       "      <td>10.402226</td>\n",
       "      <td>7.397520</td>\n",
       "      <td>-21.000000</td>\n",
       "      <td>6.000000</td>\n",
       "      <td>11.500000</td>\n",
       "      <td>15.500000</td>\n",
       "      <td>26.000000</td>\n",
       "    </tr>\n",
       "    <tr>\n",
       "      <th>km_per_liter</th>\n",
       "      <td>640.0</td>\n",
       "      <td>20.854876</td>\n",
       "      <td>3.305697</td>\n",
       "      <td>8.196721</td>\n",
       "      <td>18.867925</td>\n",
       "      <td>20.833333</td>\n",
       "      <td>23.255814</td>\n",
       "      <td>30.303030</td>\n",
       "    </tr>\n",
       "  </tbody>\n",
       "</table>\n",
       "</div>"
      ],
      "text/plain": [
       "                 count       mean        std        min        25%        50%  \\\n",
       "distance         640.0  20.456875  24.568837   1.300000  11.800000  15.350000   \n",
       "consume          640.0   4.949375   1.048316   3.300000   4.300000   4.800000   \n",
       "speed            640.0  42.903125  13.957682  14.000000  33.000000  42.000000   \n",
       "temp_inside      629.0  21.529412   3.034753   0.000000  21.500000  22.000000   \n",
       "temp_outside     640.0  11.143750   7.049875  -5.000000   6.000000  10.000000   \n",
       "AC               640.0   0.071875   0.258483   0.000000   0.000000   0.000000   \n",
       "rain             640.0   0.121875   0.327397   0.000000   0.000000   0.000000   \n",
       "sun              640.0   0.075000   0.263597   0.000000   0.000000   0.000000   \n",
       "refill liters    640.0   1.121250   6.614698   0.000000   0.000000   0.000000   \n",
       "gas_type_E10     640.0   0.500000   0.500391   0.000000   0.000000   0.500000   \n",
       "gas_type_SP98    640.0   0.500000   0.500391   0.000000   0.000000   0.500000   \n",
       "fuel_efficiency  640.0   4.339359   5.070684   0.113043   2.334906   3.107692   \n",
       "temp_diff        629.0  10.402226   7.397520 -21.000000   6.000000  11.500000   \n",
       "km_per_liter     640.0  20.854876   3.305697   8.196721  18.867925  20.833333   \n",
       "\n",
       "                       75%         max  \n",
       "distance         19.000000  216.100000  \n",
       "consume           5.300000   12.200000  \n",
       "speed            51.000000   90.000000  \n",
       "temp_inside      22.500000   25.500000  \n",
       "temp_outside     16.000000   31.000000  \n",
       "AC                0.000000    1.000000  \n",
       "rain              0.000000    1.000000  \n",
       "sun               0.000000    1.000000  \n",
       "refill liters     0.000000   45.000000  \n",
       "gas_type_E10      1.000000    1.000000  \n",
       "gas_type_SP98     1.000000    1.000000  \n",
       "fuel_efficiency   4.371554   45.869565  \n",
       "temp_diff        15.500000   26.000000  \n",
       "km_per_liter     23.255814   30.303030  "
      ]
     },
     "execution_count": 555,
     "metadata": {},
     "output_type": "execute_result"
    }
   ],
   "source": [
    "df.describe().T"
   ]
  },
  {
   "cell_type": "code",
   "execution_count": 557,
   "id": "812cb37b-6c9d-4e36-8b20-d30b2fa41037",
   "metadata": {
    "tags": []
   },
   "outputs": [
    {
     "data": {
      "image/png": "[encoded data removed]",
      "text/plain": [
       "<Figure size 800x800 with 16 Axes>"
      ]
     },
     "metadata": {},
     "output_type": "display_data"
    }
   ],
   "source": [
    "df.hist(figsize=(8,8), grid=False, bins=20)\n",
    "plt.tight_layout()"
   ]
  },
  {
   "cell_type": "code",
   "execution_count": 560,
   "id": "8a7b334d-2379-4049-9527-53ed2a7362ef",
   "metadata": {
    "tags": []
   },
   "outputs": [
    {
     "data": {
      "text/plain": [
       "<BarContainer object of 2 artists>"
      ]
     },
     "execution_count": 560,
     "metadata": {},
     "output_type": "execute_result"
    },
    {
     "data": {
      "image/png": "[encoded data removed]",
      "text/plain": [
       "<Figure size 640x480 with 1 Axes>"
      ]
     },
     "metadata": {},
     "output_type": "display_data"
    }
   ],
   "source": [
    "# counts = df_b['gas_type_SP98'].value_counts()\n",
    "sp98 = len(df[df['gas_type_SP98'] == 1])\n",
    "e10 = len(df[df['gas_type_E10'] == 1])\n",
    "\n",
    "\n",
    "plt.bar([\"SP98\", \"E10\"], [sp98, e10], color=['tab:red', 'tab:blue'])"
   ]
  },
  {
   "cell_type": "code",
   "execution_count": 561,
   "id": "e5685a63-596f-4ecd-8dfb-6fd66a9d8cd8",
   "metadata": {
    "tags": []
   },
   "outputs": [],
   "source": [
    "# which gas type have a better km per liter - use hypothesis testing \n"
   ]
  },
  {
   "cell_type": "markdown",
   "id": "90f82713-0fd0-4c61-aea1-13d3c1de0969",
   "metadata": {},
   "source": [
    "## Fecthing data from online source\n",
    "\n",
    "- Online data for different gas types and their current price in euro\n",
    "\n",
    "- creating a dataframe from the online data"
   ]
  },
  {
   "cell_type": "code",
   "execution_count": 562,
   "id": "efc9f088-8470-4d12-bb3e-53e25741e7aa",
   "metadata": {
    "tags": []
   },
   "outputs": [
    {
     "name": "stdout",
     "output_type": "stream",
     "text": [
      "200\n"
     ]
    }
   ],
   "source": [
    "request = requests.get('https://autotraveler.ru/en/germany/')\n",
    "\n",
    "print(request.status_code)\n",
    "soup = BeautifulSoup(request.content)"
   ]
  },
  {
   "cell_type": "code",
   "execution_count": 563,
   "id": "ab7b186a-0d3c-4317-b700-7ab6bf00565a",
   "metadata": {
    "tags": []
   },
   "outputs": [],
   "source": [
    "items = soup.find_all(\"li\", itemprop=\"priceSpecification\") "
   ]
  },
  {
   "cell_type": "code",
   "execution_count": 564,
   "id": "8f66e240-4754-41b2-9aac-139bb4e08f11",
   "metadata": {
    "tags": []
   },
   "outputs": [],
   "source": [
    "# Creating a df from online data\n",
    "\n",
    "gas_types = [item.span.text for item in items]\n",
    "gas_prices = [item.find(\"span\", itemprop=\"price\").text for item in items]\n",
    "\n",
    "gas_price = pd.Series(gas_prices)\n",
    "gas_type = pd.Series(gas_types)\n",
    "\n",
    "gas_df = pd.DataFrame([gas_price, gas_type]).T\n",
    "gas_df = gas_df.rename(columns={0:\"price\", 1:\"type\"})"
   ]
  },
  {
   "cell_type": "code",
   "execution_count": 565,
   "id": "c86a20de-a643-4cf1-8ccf-57bf6cb1482e",
   "metadata": {
    "tags": []
   },
   "outputs": [
    {
     "data": {
      "text/html": [
       "<div>\n",
       "<style scoped>\n",
       "    .dataframe tbody tr th:only-of-type {\n",
       "        vertical-align: middle;\n",
       "    }\n",
       "\n",
       "    .dataframe tbody tr th {\n",
       "        vertical-align: top;\n",
       "    }\n",
       "\n",
       "    .dataframe thead th {\n",
       "        text-align: right;\n",
       "    }\n",
       "</style>\n",
       "<table border=\"1\" class=\"dataframe\">\n",
       "  <thead>\n",
       "    <tr style=\"text-align: right;\">\n",
       "      <th></th>\n",
       "      <th>price</th>\n",
       "      <th>type</th>\n",
       "    </tr>\n",
       "  </thead>\n",
       "  <tbody>\n",
       "    <tr>\n",
       "      <th>0</th>\n",
       "      <td>1.838</td>\n",
       "      <td>E10</td>\n",
       "    </tr>\n",
       "    <tr>\n",
       "      <th>1</th>\n",
       "      <td>1.895</td>\n",
       "      <td>Super (95)</td>\n",
       "    </tr>\n",
       "    <tr>\n",
       "      <th>2</th>\n",
       "      <td>1.966</td>\n",
       "      <td>Super Plus (98)</td>\n",
       "    </tr>\n",
       "    <tr>\n",
       "      <th>3</th>\n",
       "      <td>1.742</td>\n",
       "      <td>Diesel</td>\n",
       "    </tr>\n",
       "    <tr>\n",
       "      <th>4</th>\n",
       "      <td>1.059</td>\n",
       "      <td>LPG</td>\n",
       "    </tr>\n",
       "  </tbody>\n",
       "</table>\n",
       "</div>"
      ],
      "text/plain": [
       "   price             type\n",
       "0  1.838              E10\n",
       "1  1.895       Super (95)\n",
       "2  1.966  Super Plus (98)\n",
       "3  1.742           Diesel\n",
       "4  1.059              LPG"
      ]
     },
     "execution_count": 565,
     "metadata": {},
     "output_type": "execute_result"
    }
   ],
   "source": [
    "gas_df"
   ]
  },
  {
   "cell_type": "markdown",
   "id": "e398b74f-40a5-4038-bdb3-0fb6987606ae",
   "metadata": {},
   "source": [
    "# Analysis\n"
   ]
  },
  {
   "cell_type": "code",
   "execution_count": 568,
   "id": "30665bbc-bed1-40ec-a04d-5bd0ba139dff",
   "metadata": {
    "tags": []
   },
   "outputs": [],
   "source": [
    "\n",
    "price_sp98 = float(gas_df[gas_df['type'] == 'Super Plus (98)'].values[0][0])\n",
    "price_e10 = float(gas_df[gas_df['type'] == 'E10'].values[0][0])\n",
    "\n",
    "# cost per 100 kilometer for each gas type\n",
    "cost_per_km_sp98 = sp98 * price_sp98_per_liter \n",
    "cost_per_km_e10 = e10 * price_e10_per_liter\n",
    "\n",
    "# which gas type have a better km per liter\n",
    "\n",
    "avg_fuel_consumption = f_df.groupby('gas_type_E10')['consume'].mean()\n",
    "\n",
    "sp98 = avg_fuel_consumption[0]\n",
    "e10 = avg_fuel_consumption[1]\n",
    "\n",
    "\n"
   ]
  },
  {
   "cell_type": "code",
   "execution_count": 569,
   "id": "a9a0c50d-ac43-482e-b128-0dc7f7a88cbc",
   "metadata": {
    "tags": []
   },
   "outputs": [
    {
     "name": "stdout",
     "output_type": "stream",
     "text": [
      "Cost per 100 kilometer:\n",
      "--------------------\n",
      "SP98: 9.61 €\n",
      "E10: 9.06 €\n",
      "\n",
      "Difference: -0.549 €\n",
      "\n",
      "\n",
      "Avg Liter per 100km:\n",
      "--------------------\n",
      "SP98: 4.89\n",
      "E10: 4.93\n",
      "\n",
      "Difference: 0.0418 \n"
     ]
    }
   ],
   "source": [
    "print(f'Cost per 100 kilometer:\\n{\"-\"*20}\\nSP98: {cost_per_km_sp98:.3} €\\nE10: {cost_per_km_e10:.3} €\\n\\nDifference: {cost_per_km_e10 - cost_per_km_sp98:.3} €')\n",
    "\n",
    "print(f'\\n\\nAvg Liter per 100km:\\n{\"-\"*20}\\nSP98: {sp98:.3}\\nE10: {e10:.3}\\n\\nDifference: {e10-sp98:.3} ')"
   ]
  },
  {
   "cell_type": "code",
   "execution_count": 595,
   "id": "9a09adb6-fbe0-4530-97ff-faa3f01147cf",
   "metadata": {
    "tags": []
   },
   "outputs": [
    {
     "name": "stdout",
     "output_type": "stream",
     "text": [
      "R-squared: 0.07163318562141474\n",
      "Mean Squared Error: 0.7616868936525083\n",
      "Coefficients: {'distance': 0.002187368597816319, 'speed': -0.019899781559797502, 'rain': 0.7522042011762998, 'sun': -0.4101703396267231, 'AC': 0.23825169907583016}\n"
     ]
    }
   ],
   "source": [
    "from sklearn.model_selection import train_test_split\n",
    "from sklearn.linear_model import LinearRegression\n",
    "from sklearn.metrics import mean_squared_error, r2_score\n",
    "from sklearn.preprocessing import StandardScaler\n",
    "# Salling did not produce better results\n",
    "\n",
    "X = df[['distance', 'speed', 'rain', 'sun', 'AC']]  \n",
    "y = df['consume']  \n",
    "\n",
    "X_train, X_test, y_train, y_test = train_test_split(X, y, test_size=0.2, random_state=42)\n",
    "\n",
    "model = LinearRegression()\n",
    "model.fit(X_train, y_train)\n",
    "\n",
    "y_pred = model.predict(X_test)\n",
    "\n",
    "# Evaluate model\n",
    "mse = mean_squared_error(y_test, y_pred)\n",
    "r2 = r2_score(y_test, y_pred)\n",
    "print(\"R-squared:\", r2)\n",
    "print(\"Mean Squared Error:\", mse)\n",
    "\n",
    "# Interpret coefficients\n",
    "coefficients = dict(zip(X.columns, model.coef_))\n",
    "print(\"Coefficients:\", coefficients)\n"
   ]
  },
  {
   "cell_type": "code",
   "execution_count": 597,
   "id": "4f22572b-9bc0-496a-88bb-d607c6ec77bf",
   "metadata": {
    "tags": []
   },
   "outputs": [
    {
     "data": {
      "image/png": "[encoded data removed]",
      "text/plain": [
       "<Figure size 640x480 with 1 Axes>"
      ]
     },
     "metadata": {},
     "output_type": "display_data"
    }
   ],
   "source": [
    "avg_fuel_sp98 = df[df['gas_type_SP98'] == 1].groupby('speed')['consume'].mean()\n",
    "avg_fuel_e10 = df[df['gas_type_SP98'] == 0].groupby('speed')['consume'].mean()\n",
    "\n",
    "plt.plot(avg_fuel_sp98.index, avg_fuel_sp98.values, label='SP98', color='blue')\n",
    "plt.plot(avg_fuel_e10.index, avg_fuel_e10.values, label='E10', color='red')\n",
    "\n",
    "plt.xlabel('Speed')\n",
    "plt.ylabel('Average Fuel Consumption (L/100km)')\n",
    "plt.title('Average Fuel Consumption vs. Speed by Gas Type')\n",
    "plt.legend()\n",
    "plt.grid(True)\n",
    "plt.show()\n"
   ]
  },
  {
   "cell_type": "markdown",
   "id": "d69ae398-5fb2-4ca7-9481-72e0ccf7dd1e",
   "metadata": {},
   "source": [
    "## Conclusions \n",
    "\n",
    "judging by the results above we can see the following:\n",
    "\n",
    "- SP98 have a better fuel efficency with 4.88 per 100km vs the E10 consuming on average 0.04 more fuel per 100km (4.93)\n",
    "\n",
    "- E10 on the otherhand is more cost effiective as its cheaper than the SP98 \n",
    "\n",
    "- Using linear reggersion and coefficients calcualtion we can see the following: \n",
    "\n",
    "\n",
    "    <font color='red'>        For the 'distance' variable, the coefficient is approximately 0.0021. This suggests that for every unit increase in distance (e.g., 1 km), fuel consumption is expected to increase by approximately 0.00218 liters per 100 km.</font>\n",
    "\n",
    "\n",
    "    <font color='red'> For the 'speed' variable, the coefficient is approximately -0.0198. This indicates that for every unit increase in speed (e.g., 1 km/h), fuel consumption is expected to       decrease by approximately 0.0198 liters per 100 km. This negative coefficient suggests that higher speeds lead to lower fuel consumption, which is counterintuitive and may need further investigation.</font>\n",
    "\n",
    "\n",
    "     <font color='red'>       Rainy conditions have the highest impact on fuel consumption with 0.7522</font>\n",
    "        \n",
    "    <font color='red'>        For the 'sun' variable, the coefficient is approximately -0.4101. This suggests that sunny weather conditions are associated with lower fuel consumption</font>\n",
    "        \n",
    "    <font color='red'>        With AC on coefficient is 0.2382 (another counterintuitive result). </font>\n",
    "        \n",
    "\n",
    "- We can see that both gas types performing poorly in term of average fuel consumption in low speeds and become more efficent between 29 to 65\n",
    "\n",
    "\n",
    "Conclusion:\n",
    "\n",
    "The high impact of rain on fuel consumption can be connected to lower speed driving, which can be seen in the graph above, to have high impact on feul consumption.\n",
    "\n",
    "Best speed to fuel consumption are between 29-65 for both gas types. \n"
   ]
  },
  {
   "cell_type": "code",
   "execution_count": null,
   "id": "2305be09-1ab0-4538-9b5e-a3102d888a63",
   "metadata": {},
   "outputs": [],
   "source": []
  }
 ],
 "metadata": {
  "kernelspec": {
   "display_name": "Python 3 (ipykernel)",
   "language": "python",
   "name": "python3"
  },
  "language_info": {
   "codemirror_mode": {
    "name": "ipython",
    "version": 3
   },
   "file_extension": ".py",
   "mimetype": "text/x-python",
   "name": "python",
   "nbconvert_exporter": "python",
   "pygments_lexer": "ipython3",
   "version": "3.11.5"
  }
 },
 "nbformat": 4,
 "nbformat_minor": 5
}
